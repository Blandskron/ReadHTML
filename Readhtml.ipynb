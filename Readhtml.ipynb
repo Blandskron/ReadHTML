{
  "nbformat": 4,
  "nbformat_minor": 0,
  "metadata": {
    "colab": {
      "provenance": [],
      "authorship_tag": "ABX9TyPRIv2xDgBGVS8S49knpUSZ",
      "include_colab_link": true
    },
    "kernelspec": {
      "name": "python3",
      "display_name": "Python 3"
    },
    "language_info": {
      "name": "python"
    }
  },
  "cells": [
    {
      "cell_type": "markdown",
      "metadata": {
        "id": "view-in-github",
        "colab_type": "text"
      },
      "source": [
        "<a href=\"https://colab.research.google.com/github/Blandskron/ReadHTML/blob/main/Readhtml.ipynb\" target=\"_parent\"><img src=\"https://colab.research.google.com/assets/colab-badge.svg\" alt=\"Open In Colab\"/></a>"
      ]
    },
    {
      "cell_type": "code",
      "execution_count": 1,
      "metadata": {
        "id": "o22FKmRRVKC5"
      },
      "outputs": [],
      "source": [
        "import pandas as pd"
      ]
    },
    {
      "cell_type": "code",
      "source": [
        "datos = pd.read_html('https://www.zeitverschiebung.net/es/all-time-zones.html')\n",
        "datos"
      ],
      "metadata": {
        "colab": {
          "base_uri": "https://localhost:8080/"
        },
        "id": "3MKAIS4QYI5D",
        "outputId": "6881ef58-98d4-4a87-ab06-9f14c1be60cc"
      },
      "execution_count": 2,
      "outputs": [
        {
          "output_type": "execute_result",
          "data": {
            "text/plain": [
              "[    UTC (Tiempo universal coordinado)        Zona horaria  \\\n",
              " 0                              UTC-11      Pacific/Midway   \n",
              " 1                              UTC-11        Pacific/Niue   \n",
              " 2                              UTC-11   Pacific/Pago_Pago   \n",
              " 3                              UTC-10        America/Adak   \n",
              " 4                              UTC-10    Pacific/Honolulu   \n",
              " ..                                ...                 ...   \n",
              " 414                            UTC+13        Pacific/Apia   \n",
              " 415                            UTC+13     Pacific/Fakaofo   \n",
              " 416                            UTC+13      Pacific/Kanton   \n",
              " 417                            UTC+13   Pacific/Tongatapu   \n",
              " 418                            UTC+14  Pacific/Kiritimati   \n",
              " \n",
              "                                      País  \\\n",
              " 0    United States Minor Outlying Islands   \n",
              " 1                                    Niue   \n",
              " 2                          American Samoa   \n",
              " 3                           United States   \n",
              " 4                           United States   \n",
              " ..                                    ...   \n",
              " 414                                 Samoa   \n",
              " 415                               Tokelau   \n",
              " 416                              Kiribati   \n",
              " 417                                 Tonga   \n",
              " 418                              Kiribati   \n",
              " \n",
              "              Principales ciudades en esta zona horaria  \n",
              " 0                                                  NaN  \n",
              " 1                                                Alofi  \n",
              " 2                     Pago Pago, Tāfuna, Ta`ū, Taulaga  \n",
              " 3                                                  NaN  \n",
              " 4    Honolulu, East Honolulu, Pearl City, Hilo, Kailua  \n",
              " ..                                                 ...  \n",
              " 414           Apia, Asau, Mulifanua, Afega, Leulumoega  \n",
              " 415       Atafu Village, Nukunonu, Fale old settlement  \n",
              " 416                                                NaN  \n",
              " 417        Nuku‘alofa, Lapaha, Neiafu, Pangai, ‘Ohonua  \n",
              " 418                                                NaN  \n",
              " \n",
              " [419 rows x 4 columns]]"
            ]
          },
          "metadata": {},
          "execution_count": 2
        }
      ]
    }
  ]
}